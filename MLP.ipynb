{
 "cells": [
  {
   "cell_type": "code",
   "execution_count": null,
   "metadata": {},
   "outputs": [],
   "source": [
    "import pandas as pd\n",
    "import numpy as np\n",
    "import matplotlib.pyplot as plt\n",
    "import seaborn as sns\n",
    "\n",
    "# test commit \n",
    "# read in the data with headers\n",
    "diamonds = pd.read_csv('diamonds.csv', index_col=0)\n",
    "\n",
    "# check the data\n",
    "diamonds.head()"
   ]
  },
  {
   "cell_type": "code",
   "execution_count": null,
   "metadata": {},
   "outputs": [],
   "source": [
    "diamonds2 = diamonds.copy()\n",
    "\n",
    "for col in diamonds2.columns:\n",
    "    if diamonds2[col].dtype != 'object':\n",
    "        diamonds2 = diamonds2[(diamonds2[col] >= np.percentile(diamonds2[col], 0.5)) &\n",
    "                              (diamonds2[col] <= np.percentile(diamonds2[col], 99.5))]\n",
    "        diamonds2.reset_index(drop=True, inplace=True)\n",
    "        \n",
    "diamonds2.shape\n",
    "\n",
    "diamonds2.hist(bins=50, figsize=(20, 15))\n",
    "plt.show()\n"
   ]
  },
  {
   "cell_type": "code",
   "execution_count": null,
   "metadata": {},
   "outputs": [],
   "source": [
    "from sklearn.model_selection import train_test_split\n",
    "\n",
    "# split data into training, validation, and test sets\n",
    "train, test = train_test_split(diamonds2, test_size=0.2, random_state=42)\n",
    "train, val = train_test_split(train, test_size=0.25, random_state=42)"
   ]
  },
  {
   "cell_type": "code",
   "execution_count": null,
   "metadata": {},
   "outputs": [],
   "source": [
    "# create a list of features\n",
    "features = ['carat', 'cut', 'color', 'clarity', 'x', 'y','z','table', 'depth']\n",
    "# create X matrix and y vector\n",
    "X_train = train[features]\n",
    "y_train = train['price']\n",
    "X_val = val[features]\n",
    "y_val = val['price']\n",
    "X_test = test[features]\n",
    "y_test = test['price']\n"
   ]
  },
  {
   "cell_type": "code",
   "execution_count": null,
   "metadata": {},
   "outputs": [],
   "source": [
    "# preprocess the categorical features (one-hot encode)\n",
    "X_train = pd.get_dummies(X_train, columns=['cut', 'color', 'clarity'])\n",
    "X_val = pd.get_dummies(X_val, columns=['cut', 'color', 'clarity'])\n",
    "X_test = pd.get_dummies(X_test, columns=['cut', 'color', 'clarity'])\n",
    "\n",
    "# check the shape of the data"
   ]
  },
  {
   "cell_type": "code",
   "execution_count": null,
   "metadata": {},
   "outputs": [],
   "source": [
    "# check first five rows of training data\n",
    "\n",
    "X_train.head()"
   ]
  },
  {
   "cell_type": "code",
   "execution_count": null,
   "metadata": {},
   "outputs": [],
   "source": [
    "numeric_features = ['carat', 'x', 'y', 'z', 'table', 'depth']\n",
    "\n",
    "# save mean and standard deviation of training data\n",
    "means = X_train[numeric_features].mean()\n",
    "stds = X_train[numeric_features].std()\n",
    "\n",
    "# normalize the numeric features (subtract mean and divide by standard deviation)\n",
    "X_train[numeric_features] = (X_train[numeric_features] - means) / stds\n",
    "X_val[numeric_features] = (X_val[numeric_features] - means) / stds\n",
    "X_test[numeric_features] = (X_test[numeric_features] - means) / stds\n"
   ]
  },
  {
   "cell_type": "code",
   "execution_count": null,
   "metadata": {},
   "outputs": [],
   "source": [
    "# write a MLP model by Pytorch to predict price from the features\n",
    "import torch\n",
    "import torch.nn as nn\n",
    "import torch.nn.functional as F\n",
    "from torch.utils.data import TensorDataset, DataLoader\n",
    "\n",
    "# convert X and y to tensors\n",
    "\n",
    "X_train_tensor = torch.tensor(X_train.values, dtype=torch.float)\n",
    "y_train_tensor = torch.tensor(y_train.values, dtype=torch.float).reshape(-1, 1)\n",
    "\n",
    "X_val_tensor = torch.tensor(X_val.values, dtype=torch.float)\n",
    "y_val_tensor = torch.tensor(y_val.values, dtype=torch.float).reshape(-1, 1)\n",
    "\n",
    "X_test_tensor = torch.tensor(X_test.values, dtype=torch.float)\n",
    "y_val_tensor = torch.tensor(y_test.values, dtype=torch.float).reshape(-1, 1) \n",
    "\n",
    "# create a dataset and dataloader \n",
    "\n",
    "train_ds = TensorDataset(X_train_tensor, y_train_tensor)\n",
    "train_dl = DataLoader(train_ds, batch_size=32)\n",
    "\n",
    "val_ds = TensorDataset(X_val_tensor, y_val_tensor)\n",
    "val_dl = DataLoader(val_ds, batch_size=32)\n",
    "\n",
    "# MLP model \n",
    "class MLP(nn.Module):\n",
    "    def __init__(self, l1 ) -> None:\n",
    "        super().__init__()\n",
    "        self.fc1 = nn.Linear(26, l1) \n",
    "        self.fc2 = nn.Linear(l1, 1)\n",
    "        \n",
    "    def forward(self, x):\n",
    "        x = F.relu(self.fc1(x))\n",
    "        return self.fc2(x)"
   ]
  },
  {
   "cell_type": "code",
   "execution_count": null,
   "metadata": {},
   "outputs": [],
   "source": [
    "def train(epochs, model, loss_func, opt, train_dl, val_dl, clip_gra = None ,early_stopping=True, gpu=False): \n",
    "    tmp = 0 \n",
    "    for epoch in range(epochs):\n",
    "        \n",
    "        if gpu:\n",
    "            model = model.cuda()\n",
    "            # loss_func = loss_func.cuda()\n",
    "        model.train()\n",
    "        \n",
    "        for xb, yb in train_dl:\n",
    "            if gpu:\n",
    "                xb = xb.cuda()\n",
    "                yb = yb.cuda()\n",
    "                \n",
    "            pred = model(xb)\n",
    "            loss = loss_func(pred, yb)\n",
    "            # print('loss: ', loss)\n",
    "            loss.backward()\n",
    "            if clip_gra is not None:\n",
    "                torch.nn.utils.clip_grad_norm_(model.parameters(), clip_gra)\n",
    "            opt.step()\n",
    "            opt.zero_grad()\n",
    "        \n",
    "        model.eval()\n",
    "        with torch.no_grad():\n",
    "            \n",
    "            valid_loss = sum(loss_func(model(xb.cuda()), yb.cuda()) for xb, yb in val_dl)\n",
    "        \n",
    "        # early stopping when validation loss doesn't increases after 5 epochs\n",
    "        # save the model with the lowest validation loss to a variable \n",
    "        \n",
    "        if early_stopping:\n",
    "            \n",
    "            if epoch == 0:\n",
    "                best_loss = valid_loss\n",
    "                best_model = model\n",
    "            else:\n",
    "                if valid_loss < best_loss:\n",
    "                    best_loss = valid_loss\n",
    "                    # torch.save(model.state_dict(), 'best_model.pt')\n",
    "                    best_model = model \n",
    "                else:\n",
    "                    tmp += 1\n",
    "                    if tmp == 5: \n",
    "                        print(f'Early stopping, epoch: {epoch}')\n",
    "                        return best_model , best_loss \n",
    "        \n",
    "        else : \n",
    "            best_model = model\n",
    "            best_loss = valid_loss\n",
    "        if epoch % 10 == 0:\n",
    "            print(f'Epoch {epoch}, training loss: {loss}, validation loss: {valid_loss}, Best loss : {best_loss}, tmp : {tmp}')\n",
    "            \n",
    "        \n",
    "        \n",
    "    return best_model, best_loss"
   ]
  },
  {
   "cell_type": "code",
   "execution_count": null,
   "metadata": {},
   "outputs": [],
   "source": [
    "\n",
    "val_losses = [] \n",
    "best_models = []\n",
    "for l1 in [32, 64, 128, 256, 512, 1024]:\n",
    "    model = MLP(l1)\n",
    "    loss_func = F.mse_loss\n",
    "    opt = torch.optim.SGD(model.parameters(), lr=1e-3, weight_decay=0.01)\n",
    "    best_model, best_loss = train(1000, model, loss_func, opt, train_dl, val_dl, 1 ,early_stopping=True, gpu=True)\n",
    "    val_losses.append(best_loss)\n",
    "    best_models.append(best_model)\n",
    "    print(f'Validation loss: {best_loss} with {l1} hidden units')\n"
   ]
  },
  {
   "cell_type": "code",
   "execution_count": null,
   "metadata": {},
   "outputs": [],
   "source": [
    "\n",
    "val_losses = [] \n",
    "best_models = []\n",
    "for l1 in [32, 64, 128, 256, 512, 1024]:\n",
    "    model = MLP(l1)\n",
    "    loss_func = F.mse_loss\n",
    "    opt = torch.optim.Adam(model.parameters(), lr=1e-3)\n",
    "    best_model, best_loss = train(1000, model, loss_func, opt, train_dl, val_dl, early_stopping=True, gpu=True)\n",
    "    val_losses.append(best_loss)\n",
    "    best_models.append(best_model)\n",
    "    print(f'Validation loss: {best_loss} with {l1} hidden units')"
   ]
  },
  {
   "cell_type": "code",
   "execution_count": null,
   "metadata": {},
   "outputs": [],
   "source": [
    "# plot the validation loss for each model\n",
    "val_losses = [x.cpu().numpy() for x in val_losses]\n",
    "plt.plot([32, 64, 128, 256, 512, 1024], val_losses)\n",
    "plt.xlabel('Hidden units')\n",
    "plt.ylabel('Validation loss')\n",
    "plt.show()"
   ]
  },
  {
   "cell_type": "code",
   "execution_count": null,
   "metadata": {},
   "outputs": [],
   "source": [
    "# get the min validation loss and the corresponding model \n",
    "best_model = best_models[np.argmin(val_losses)]\n",
    "\n",
    "from sklearn.metrics import mean_absolute_percentage_error, mean_squared_error, r2_score, mean_absolute_error\n",
    "def metrics (y_val, y_pred):\n",
    "    mae = mean_absolute_error(y_val, y_pred)\n",
    "    mape = mean_absolute_percentage_error(y_val, y_pred)\n",
    "    mse = mean_squared_error(y_val, y_pred)\n",
    "    rmse = np.sqrt(mse)\n",
    "    r2 = r2_score(y_val, y_pred)\n",
    "    return mae, mape, mse, rmse, r2 \n",
    "\n",
    "# calculate the metrics for the best model on the validation set\n",
    "best_model.eval()\n",
    "y_pred = best_model(X_train_tensor.cuda()).cpu().detach().numpy()\n",
    "mae, mape, mse, rmse, r2 = metrics(y_train, y_pred)\n",
    "print(f'MAE: {mae}, MAPE: {mape}, MSE: {mse}, RMSE: {rmse}, R2: {r2}')"
   ]
  },
  {
   "attachments": {},
   "cell_type": "markdown",
   "metadata": {},
   "source": [
    "- dropout ? \n",
    "- weight decay vs SGD \n",
    "- Adam\n",
    "- tuning siêu tham số \n",
    "\n",
    "\n",
    "\n",
    "- MLP với SKlearn "
   ]
  },
  {
   "cell_type": "code",
   "execution_count": null,
   "metadata": {},
   "outputs": [],
   "source": []
  }
 ],
 "metadata": {
  "kernelspec": {
   "display_name": "gpu",
   "language": "python",
   "name": "python3"
  },
  "language_info": {
   "codemirror_mode": {
    "name": "ipython",
    "version": 3
   },
   "file_extension": ".py",
   "mimetype": "text/x-python",
   "name": "python",
   "nbconvert_exporter": "python",
   "pygments_lexer": "ipython3",
   "version": "3.8.13"
  },
  "orig_nbformat": 4
 },
 "nbformat": 4,
 "nbformat_minor": 2
}
